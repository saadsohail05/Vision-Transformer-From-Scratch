{
  "cells": [
    {
      "cell_type": "markdown",
      "metadata": {
        "id": "bNWUMw305Hmk"
      },
      "source": [
        "### Vision Transformer"
      ]
    },
    {
      "cell_type": "markdown",
      "source": [
        "### Importing Libraries"
      ],
      "metadata": {
        "id": "wOYtAy11FgiE"
      }
    },
    {
      "cell_type": "code",
      "source": [
        "import torch\n",
        "import torch.nn as nn\n",
        "import torch.nn.functional as F\n",
        "import torchvision.transforms as T\n",
        "import numpy as np\n",
        "from PIL import Image\n",
        "import matplotlib.pyplot as plt\n",
        "import seaborn as sns"
      ],
      "metadata": {
        "id": "wzdVxH8DFmrs"
      },
      "execution_count": 4,
      "outputs": []
    },
    {
      "cell_type": "markdown",
      "source": [
        "### Images to Patches"
      ],
      "metadata": {
        "id": "1NRf75Hr7ZmA"
      }
    },
    {
      "cell_type": "code",
      "source": [],
      "metadata": {
        "id": "RErB--iZ7dat"
      },
      "execution_count": null,
      "outputs": []
    }
  ],
  "metadata": {
    "language_info": {
      "name": "python"
    },
    "colab": {
      "provenance": []
    },
    "kernelspec": {
      "name": "python3",
      "display_name": "Python 3"
    }
  },
  "nbformat": 4,
  "nbformat_minor": 0
}