{
  "nbformat": 4,
  "nbformat_minor": 0,
  "metadata": {
    "colab": {
      "provenance": [],
      "gpuType": "T4"
    },
    "kernelspec": {
      "name": "python3",
      "display_name": "Python 3"
    },
    "language_info": {
      "name": "python"
    },
    "accelerator": "GPU"
  },
  "cells": [
    {
      "cell_type": "code",
      "execution_count": 1,
      "metadata": {
        "id": "4_ue28QFpXgI"
      },
      "outputs": [],
      "source": [
        "import torch\n",
        "\n",
        "import torchvision\n",
        "\n",
        "import torch.nn as nn\n",
        "\n",
        "import torch.nn.functional as F\n",
        "\n",
        "import torchvision.transforms as T\n",
        "\n",
        "from torchvision.transforms import Resize\n",
        "\n",
        "from torchvision import datasets, transforms\n",
        "\n",
        "import torch.optim as optim\n",
        "\n",
        "from torch.utils.data import DataLoader\n",
        "\n",
        "\n",
        "from tqdm import tqdm\n",
        "\n",
        "import numpy as np\n",
        "\n",
        "from PIL import Image\n"
      ]
    },
    {
      "cell_type": "code",
      "source": [
        "from torchvision.datasets import CIFAR10\n",
        "import torch.optim as optim\n",
        "import torch.backends.cudnn as cudnn\n",
        "from torch.optim.lr_scheduler import CosineAnnealingLR\n",
        "import wandb\n",
        "import time\n",
        "from torchsummary import summary"
      ],
      "metadata": {
        "id": "bqMw7wPx5Q1A"
      },
      "execution_count": 2,
      "outputs": []
    },
    {
      "cell_type": "markdown",
      "source": [
        "## Self-Attention"
      ],
      "metadata": {
        "id": "31fde5f7"
      }
    },
    {
      "cell_type": "code",
      "source": [
        "class SelfAttention(nn.Module):\n",
        "\n",
        "    def __init__(self, embedding_dim=768, key_dim=64):\n",
        "\n",
        "        super(SelfAttention, self).__init__()\n",
        "\n",
        "        self.embedding_dim = embedding_dim   # D -> embedding dimensionaltiy\n",
        "        self.key_dim = key_dim               # D_h -> key, query, value dimensionality\n",
        "\n",
        "        # U_kqv weight matrix\n",
        "\n",
        "        self.W = nn.Parameter(torch.randn(embedding_dim, 3*key_dim))\n",
        "\n",
        "    def forward(self, x):\n",
        "\n",
        "        key_dim = self.key_dim\n",
        "\n",
        "        # get query, key and value projection\n",
        "\n",
        "        qkv = torch.matmul(x, self.W)\n",
        "\n",
        "        # get query, key, value\n",
        "\n",
        "        q = qkv[:, :, :key_dim]\n",
        "\n",
        "        k = qkv[:, :, key_dim:key_dim*2 ]\n",
        "\n",
        "        v = qkv[:, :, key_dim*2:]\n",
        "\n",
        "\n",
        "        # compute dot product of the all query with all keys\n",
        "\n",
        "        k_T = torch.transpose(k, -2, -1)   # get transpose of key\n",
        "\n",
        "        dot_products = torch.matmul(q, k_T)\n",
        "\n",
        "        # divide each by √Dh\n",
        "\n",
        "        scaled_dot_products = dot_products / np.sqrt(key_dim)\n",
        "\n",
        "        # apply a softmax function to obtain attention weights -> A\n",
        "\n",
        "        attention_weights = F.softmax(scaled_dot_products, dim=1)\n",
        "\n",
        "        # get weighted values\n",
        "\n",
        "        weighted_values = torch.matmul(attention_weights, v)\n",
        "\n",
        "        # return weighted_values\n",
        "\n",
        "        return weighted_values"
      ],
      "metadata": {
        "id": "8a00b7c8",
        "trusted": true,
        "execution": {
          "iopub.status.busy": "2024-11-07T19:09:24.340434Z",
          "iopub.execute_input": "2024-11-07T19:09:24.341158Z",
          "iopub.status.idle": "2024-11-07T19:09:24.351631Z",
          "shell.execute_reply.started": "2024-11-07T19:09:24.341116Z",
          "shell.execute_reply": "2024-11-07T19:09:24.350782Z"
        }
      },
      "outputs": [],
      "execution_count": 3
    },
    {
      "cell_type": "markdown",
      "source": [
        "## Multi-Head Self-Attention\n"
      ],
      "metadata": {
        "id": "7fa436b0"
      }
    },
    {
      "cell_type": "code",
      "source": [
        "class MultiHeadSelfAttention(nn.Module):\n",
        "\n",
        "    def __init__(self, embedding_dim=768, num_heads=12):\n",
        "\n",
        "        super(MultiHeadSelfAttention, self).__init__()\n",
        "\n",
        "        self.num_heads = num_heads            # set number of heads (k)\n",
        "\n",
        "        self.embedding_dim = embedding_dim    # set dimensionality\n",
        "\n",
        "\n",
        "        assert embedding_dim % num_heads == 0   # dimensionality should be divisible by number of heads\n",
        "\n",
        "        self.key_dim = embedding_dim // n_head   # set key,query and value dimensionality\n",
        "\n",
        "        # init self-attentions\n",
        "\n",
        "        self.attention_list = [SelfAttention(embedding_dim, self.key_dim) for _ in range(num_heads)]\n",
        "\n",
        "        self.multi_head_attention = nn.ModuleList(self.attention_list)\n",
        "\n",
        "        # init U_msa weight matrix\n",
        "\n",
        "        self.W = nn.Parameter(torch.randn(num_heads * self.key_dim, embedding_dim))\n",
        "\n",
        "\n",
        "    def forward(self, x):\n",
        "\n",
        "        # compute self-attention scores of each head\n",
        "\n",
        "        attention_scores = [attention(x) for attention in self.multi_head_attention]\n",
        "\n",
        "\n",
        "        # concat attentions\n",
        "\n",
        "        Z = torch.cat(attention_scores, -1)\n",
        "\n",
        "        # compute multi-head attention score\n",
        "\n",
        "        attention_score = torch.matmul(Z, self.W)\n",
        "\n",
        "        return attention_score\n",
        "\n"
      ],
      "metadata": {
        "id": "972aa577",
        "trusted": true,
        "execution": {
          "iopub.status.busy": "2024-11-07T19:09:24.372357Z",
          "iopub.execute_input": "2024-11-07T19:09:24.372905Z",
          "iopub.status.idle": "2024-11-07T19:09:24.382852Z",
          "shell.execute_reply.started": "2024-11-07T19:09:24.372862Z",
          "shell.execute_reply": "2024-11-07T19:09:24.382025Z"
        }
      },
      "outputs": [],
      "execution_count": 4
    },
    {
      "cell_type": "markdown",
      "source": [
        "## Multi-Layer Perceptron\n"
      ],
      "metadata": {
        "id": "42fc8593"
      }
    },
    {
      "cell_type": "code",
      "source": [
        "class MultiLayerPerceptron(nn.Module):\n",
        "\n",
        "    def __init__(self, embedding_dim=768, hidden_dim=3072):\n",
        "\n",
        "        super(MultiLayerPerceptron, self).__init__()\n",
        "\n",
        "        self.mlp = nn.Sequential(\n",
        "\n",
        "                            nn.Linear(embedding_dim, hidden_dim),\n",
        "\n",
        "                            nn.GELU(),\n",
        "\n",
        "                            nn.Linear(hidden_dim, embedding_dim)\n",
        "\n",
        "                   )\n",
        "\n",
        "    def forward(self, x):\n",
        "\n",
        "        # pass through multi-layer perceptron\n",
        "\n",
        "        x = self.mlp(x)\n",
        "\n",
        "        return x"
      ],
      "metadata": {
        "id": "5924c402",
        "trusted": true,
        "execution": {
          "iopub.status.busy": "2024-11-07T19:09:24.453227Z",
          "iopub.execute_input": "2024-11-07T19:09:24.453804Z",
          "iopub.status.idle": "2024-11-07T19:09:24.460315Z",
          "shell.execute_reply.started": "2024-11-07T19:09:24.453761Z",
          "shell.execute_reply": "2024-11-07T19:09:24.459512Z"
        }
      },
      "outputs": [],
      "execution_count": 5
    },
    {
      "cell_type": "markdown",
      "source": [
        "## Transformer Encoder\n"
      ],
      "metadata": {
        "id": "d7063e67"
      }
    },
    {
      "cell_type": "code",
      "source": [
        "class TransformerEncoder(nn.Module):\n",
        "\n",
        "    def __init__(self, embedding_dim=768, num_heads=12, hidden_dim=3072, dropout_prob=0.1):\n",
        "\n",
        "        super(TransformerEncoder, self).__init__()\n",
        "\n",
        "\n",
        "        self.MSA = MultiHeadSelfAttention(embedding_dim, num_heads)\n",
        "\n",
        "        self.MLP = MultiLayerPerceptron(embedding_dim, hidden_dim)\n",
        "\n",
        "        self.layer_norm1 = nn.LayerNorm(embedding_dim)\n",
        "\n",
        "        self.layer_norm2 = nn.LayerNorm(embedding_dim)\n",
        "\n",
        "\n",
        "        self.dropout1 = nn.Dropout(p=dropout_prob)\n",
        "\n",
        "        self.dropout2 = nn.Dropout(p=dropout_prob)\n",
        "\n",
        "        self.dropout3 = nn.Dropout(p=dropout_prob)\n",
        "\n",
        "\n",
        "    def forward(self, x):\n",
        "\n",
        "        # apply dropout\n",
        "\n",
        "        out_1 = self.dropout1(x)\n",
        "\n",
        "        # apply layer normalization\n",
        "        out_2 = self.layer_norm1(out_1)\n",
        "\n",
        "        # compute multi-head self-attention\n",
        "\n",
        "        msa_out = self.MSA(out_2)\n",
        "\n",
        "        # apply dropout\n",
        "\n",
        "        out_3 = self.dropout2(msa_out)\n",
        "\n",
        "        # apply residual connection\n",
        "\n",
        "        res_out = x + out_3\n",
        "\n",
        "        # apply layer normalization\n",
        "\n",
        "        out_4 = self.layer_norm2(res_out)\n",
        "\n",
        "        # compute mlp output\n",
        "\n",
        "        mlp_out = self.MLP(out_4)\n",
        "\n",
        "        # apply dropout\n",
        "\n",
        "        out_5 = self.dropout3(mlp_out)\n",
        "\n",
        "        # apply residual connection\n",
        "\n",
        "        output = res_out + out_5\n",
        "\n",
        "        return output"
      ],
      "metadata": {
        "id": "75550f6c",
        "trusted": true,
        "execution": {
          "iopub.status.busy": "2024-11-07T19:09:24.568064Z",
          "iopub.execute_input": "2024-11-07T19:09:24.568799Z",
          "iopub.status.idle": "2024-11-07T19:09:24.579604Z",
          "shell.execute_reply.started": "2024-11-07T19:09:24.568755Z",
          "shell.execute_reply": "2024-11-07T19:09:24.578791Z"
        }
      },
      "outputs": [],
      "execution_count": 6
    },
    {
      "cell_type": "markdown",
      "source": [
        "## Transformer Encoder\n"
      ],
      "metadata": {
        "id": "uj9kzkj608hq"
      }
    },
    {
      "cell_type": "code",
      "source": [
        "class TransformerEncoder(nn.Module):\n",
        "\n",
        "    def __init__(self, embedding_dim=768, num_heads=12, hidden_dim=3072, dropout_prob=0.1):\n",
        "\n",
        "        super(TransformerEncoder, self).__init__()\n",
        "\n",
        "\n",
        "        self.MSA = MultiHeadSelfAttention(embedding_dim, num_heads)\n",
        "\n",
        "        self.MLP = MultiLayerPerceptron(embedding_dim, hidden_dim)\n",
        "\n",
        "        self.layer_norm1 = nn.LayerNorm(embedding_dim)\n",
        "\n",
        "        self.layer_norm2 = nn.LayerNorm(embedding_dim)\n",
        "\n",
        "\n",
        "        self.dropout1 = nn.Dropout(p=dropout_prob)\n",
        "\n",
        "        self.dropout2 = nn.Dropout(p=dropout_prob)\n",
        "\n",
        "        self.dropout3 = nn.Dropout(p=dropout_prob)\n",
        "\n",
        "\n",
        "    def forward(self, x):\n",
        "\n",
        "        # apply dropout\n",
        "\n",
        "        out_1 = self.dropout1(x)\n",
        "\n",
        "        # apply layer normalization\n",
        "        out_2 = self.layer_norm1(out_1)\n",
        "\n",
        "        # compute multi-head self-attention\n",
        "\n",
        "        msa_out = self.MSA(out_2)\n",
        "\n",
        "        # apply dropout\n",
        "\n",
        "        out_3 = self.dropout2(msa_out)\n",
        "\n",
        "        # apply residual connection\n",
        "\n",
        "        res_out = x + out_3\n",
        "\n",
        "        # apply layer normalization\n",
        "\n",
        "        out_4 = self.layer_norm2(res_out)\n",
        "\n",
        "        # compute mlp output\n",
        "\n",
        "        mlp_out = self.MLP(out_4)\n",
        "\n",
        "        # apply dropout\n",
        "\n",
        "        out_5 = self.dropout3(mlp_out)\n",
        "\n",
        "        # apply residual connection\n",
        "\n",
        "        output = res_out + out_5\n",
        "\n",
        "        return output"
      ],
      "metadata": {
        "trusted": true,
        "execution": {
          "iopub.status.busy": "2024-11-07T19:09:24.568064Z",
          "iopub.execute_input": "2024-11-07T19:09:24.568799Z",
          "iopub.status.idle": "2024-11-07T19:09:24.579604Z",
          "shell.execute_reply.started": "2024-11-07T19:09:24.568755Z",
          "shell.execute_reply": "2024-11-07T19:09:24.578791Z"
        },
        "id": "rO0QgpKk08hq"
      },
      "outputs": [],
      "execution_count": 7
    },
    {
      "cell_type": "markdown",
      "source": [
        "## MLP Classification Head\n"
      ],
      "metadata": {
        "id": "7a85c710"
      }
    },
    {
      "cell_type": "code",
      "source": [
        "class MLPHead(nn.Module):\n",
        "\n",
        "    def __init__(self, embedding_dim=768, num_classes=10, fine_tune=False):\n",
        "\n",
        "        super(MLPHead, self).__init__()\n",
        "\n",
        "        self.num_classes = num_classes\n",
        "\n",
        "\n",
        "\n",
        "        if not fine_tune:\n",
        "\n",
        "            # hidden layer with tanh activation function\n",
        "\n",
        "            self.mlp_head = nn.Sequential(\n",
        "\n",
        "                                    nn.Linear(embedding_dim, 3072),  # hidden layer\n",
        "\n",
        "                                    nn.Tanh(),\n",
        "\n",
        "                                    nn.Linear(3072, num_classes)    # output layer\n",
        "\n",
        "                            )\n",
        "        else:\n",
        "\n",
        "            # single linear layer\n",
        "\n",
        "            self.mlp_head = nn.Linear(embedding_dim, num_classes)\n",
        "\n",
        "\n",
        "\n",
        "    def forward(self, x):\n",
        "\n",
        "        x = self.mlp_head(x)\n",
        "\n",
        "        return x\n",
        "\n"
      ],
      "metadata": {
        "id": "6ca2c74c",
        "trusted": true,
        "execution": {
          "iopub.status.busy": "2024-11-07T19:09:24.746974Z",
          "iopub.execute_input": "2024-11-07T19:09:24.747616Z",
          "iopub.status.idle": "2024-11-07T19:09:24.755363Z",
          "shell.execute_reply.started": "2024-11-07T19:09:24.747534Z",
          "shell.execute_reply": "2024-11-07T19:09:24.754549Z"
        }
      },
      "outputs": [],
      "execution_count": 8
    },
    {
      "cell_type": "markdown",
      "source": [
        "## Vision Transformer\n"
      ],
      "metadata": {
        "id": "bc17b495"
      }
    },
    {
      "cell_type": "code",
      "source": [
        "class VisionTransformer(nn.Module):\n",
        "\n",
        "    def __init__(self, patch_size=16, image_size=224, channel_size=3,\n",
        "\n",
        "                     num_layers=12, embedding_dim=768, num_heads=12, hidden_dim=3072,\n",
        "\n",
        "                            dropout_prob=0.1, num_classes=10, pretrain=True):\n",
        "\n",
        "        super(VisionTransformer, self).__init__()\n",
        "\n",
        "\n",
        "\n",
        "        self.patch_size = patch_size\n",
        "\n",
        "        self.channel_size = channel_size\n",
        "\n",
        "        self.num_layers = num_layers\n",
        "\n",
        "        self.embedding_dim = embedding_dim\n",
        "\n",
        "        self.num_heads = num_heads\n",
        "\n",
        "        self.hidden_dim = hidden_dim\n",
        "\n",
        "        self.dropout_prob = dropout_prob\n",
        "\n",
        "        self.num_classes = num_classes\n",
        "\n",
        "\n",
        "\n",
        "        # get number of patches of the image\n",
        "\n",
        "        self.num_patches = int(image_size ** 2 / patch_size ** 2)   # height * width / patch size ^ 2\n",
        "\n",
        "\n",
        "\n",
        "        # trainable linear projection for mapping dimnesion of patches (weight matrix E)\n",
        "\n",
        "        self.W = nn.Parameter(\n",
        "\n",
        "                    torch.randn( patch_size * patch_size * channel_size, embedding_dim))\n",
        "\n",
        "\n",
        "\n",
        "        # position embeddings (E_pos)\n",
        "\n",
        "        self.pos_embedding = nn.Parameter(torch.randn(self.num_patches + 1, embedding_dim))\n",
        "\n",
        "\n",
        "\n",
        "        # learnable class token embedding (x_class)\n",
        "\n",
        "        self.class_token = nn.Parameter(torch.rand(1, embedding_dim))\n",
        "\n",
        "\n",
        "\n",
        "        # stack transformer encoder layers\n",
        "\n",
        "        transformer_encoder_list = [\n",
        "\n",
        "            TransformerEncoder(embedding_dim, num_heads, hidden_dim, dropout_prob)\n",
        "\n",
        "                    for _ in range(num_layers)]\n",
        "\n",
        "        self.transformer_encoder_layers = nn.Sequential(*transformer_encoder_list)\n",
        "\n",
        "\n",
        "\n",
        "        # mlp head\n",
        "\n",
        "        self.mlp_head = MLPHead(embedding_dim, num_classes)\n",
        "\n",
        "\n",
        "\n",
        "    def forward(self, x):\n",
        "\n",
        "        # get patch size and channel size\n",
        "\n",
        "        P, C = self.patch_size, self.channel_size\n",
        "\n",
        "\n",
        "\n",
        "        # split image into patches\n",
        "\n",
        "        patches = x.unfold(1, C, C).unfold(2, P, P).unfold(3, P, P)\n",
        "\n",
        "        patches = patches.contiguous().view(patches.size(0), -1, C * P * P).float()\n",
        "\n",
        "\n",
        "\n",
        "        # linearly embed patches\n",
        "\n",
        "        patch_embeddings = torch.matmul(patches , self.W)\n",
        "\n",
        "\n",
        "        # add class token\n",
        "\n",
        "        batch_size = patch_embeddings.shape[0]\n",
        "\n",
        "        patch_embeddings = torch.cat((self.class_token.repeat(batch_size, 1, 1), patch_embeddings), 1)\n",
        "\n",
        "\n",
        "\n",
        "        # add positional embedding\n",
        "\n",
        "        patch_embeddings = patch_embeddings + self.pos_embedding\n",
        "\n",
        "\n",
        "\n",
        "        # feed patch embeddings into a stack of Transformer encoders\n",
        "\n",
        "        transformer_encoder_output = self.transformer_encoder_layers(patch_embeddings)\n",
        "\n",
        "\n",
        "\n",
        "        # extract [class] token from encoder output\n",
        "\n",
        "        output_class_token = transformer_encoder_output[:, 0]\n",
        "\n",
        "\n",
        "\n",
        "        # pass token through mlp head for classification\n",
        "\n",
        "        y = self.mlp_head(output_class_token)\n",
        "\n",
        "\n",
        "\n",
        "        return y"
      ],
      "metadata": {
        "id": "2ffa1e89",
        "trusted": true,
        "execution": {
          "iopub.status.busy": "2024-11-07T19:09:24.821059Z",
          "iopub.execute_input": "2024-11-07T19:09:24.821526Z",
          "iopub.status.idle": "2024-11-07T19:09:24.837397Z",
          "shell.execute_reply.started": "2024-11-07T19:09:24.821480Z",
          "shell.execute_reply": "2024-11-07T19:09:24.836237Z"
        }
      },
      "outputs": [],
      "execution_count": 9
    },
    {
      "cell_type": "code",
      "source": [
        "# image_size = 224; channel_size = 3\n",
        "\n",
        "\n",
        "# # number of classes CIFAR-10\n",
        "\n",
        "# n_class = 10\n",
        "\n",
        "# # dropout probability\n",
        "\n",
        "# dropout_prob = 0.1\n",
        "\n",
        "\n",
        "# # Vit-base model configurations\n",
        "\n",
        "# n_layer = 12; embedding_dim = 768; n_head = 12; hidden_dim=3072\n",
        "\n",
        "\n",
        "# # read and resize image\n",
        "\n",
        "# image = Image.open('img.jpg').resize((image_size, image_size))\n",
        "\n",
        "\n",
        "\n",
        "# # convert PIL image to tensor\n",
        "\n",
        "# X = T.PILToTensor()(image)\n",
        "\n",
        "\n",
        "# # add batch dimension\n",
        "\n",
        "# X =  X[None, ...]    # batch size = 1\n",
        "\n",
        "\n",
        "# patch_size = 16\n",
        "\n",
        "\n",
        "\n",
        "# vision_transformer = VisionTransformer(patch_size, image_size, channel_size,\n",
        "\n",
        "#                             n_layer, embedding_dim, n_head, hidden_dim, dropout_prob, n_class)\n",
        "\n",
        "\n",
        "\n",
        "# # compute vision transformer output\n",
        "\n",
        "# vit_output = vision_transformer(X)\n",
        "\n",
        "\n",
        "\n",
        "# assert vit_output.size(dim=1) == n_class\n",
        "\n",
        "# print(vit_output.shape)\n",
        "\n",
        "\n",
        "\n",
        "# # get class probabilities\n",
        "\n",
        "# probabilities = F.softmax(vit_output[0], dim=0)\n",
        "# print(probabilities)\n",
        "\n",
        "\n",
        "# # probabilities should sum up to 1\n",
        "\n",
        "# print(torch.sum(probabilities))"
      ],
      "metadata": {
        "id": "RX3asanZ3Vjg"
      },
      "execution_count": 10,
      "outputs": []
    },
    {
      "cell_type": "code",
      "source": [
        "# Set device for training\n",
        "device = torch.device(\"cuda\" if torch.cuda.is_available() else \"cpu\")\n",
        "print(f\"Using device: {device}\")\n",
        "\n",
        "# Hyperparameters\n",
        "batch_size = 32\n",
        "epochs = 4\n",
        "learning_rate = 0.001\n",
        "weight_decay = 0.3\n",
        "t_max = 80000\n",
        "log_interval = 10\n",
        "workers = 4\n",
        "seed = 1\n",
        "\n",
        "image_size = 224\n",
        "channel_size = 3\n",
        "n_class = 10\n",
        "n_layer = 12\n",
        "embedding_dim = 768\n",
        "n_head = 12\n",
        "hidden_dim=3072\n",
        "patch_size = 16\n",
        "dropout_prob = 0.1\n",
        "\n",
        "# Ensure reproducibility\n",
        "torch.manual_seed(seed)\n",
        "if device == 'cuda':\n",
        "    cudnn.deterministic = True\n",
        "    cudnn.benchmark = False\n",
        "\n",
        "# Initialize the Vision Transformer model\n",
        "model = VisionTransformer(patch_size, image_size, channel_size,\n",
        "\n",
        "                            n_layer, embedding_dim, n_head, hidden_dim, dropout_prob, n_class)\n",
        "\n",
        "# Optimizer and loss function\n",
        "optimizer = optim.AdamW(model.parameters(), lr=learning_rate, weight_decay=weight_decay)\n",
        "criterion = nn.CrossEntropyLoss().to(device)\n",
        "\n",
        "# Learning rate scheduler\n",
        "scheduler = CosineAnnealingLR(optimizer, T_max=t_max, eta_min=0)\n",
        "\n",
        "# Setup WandB for logging\n",
        "wandb.init(project='vision-transformer', config={\n",
        "    'batch_size': batch_size,\n",
        "    'epochs': epochs,\n",
        "    'learning_rate': learning_rate,\n",
        "    'weight_decay': weight_decay,\n",
        "    't_max': t_max,\n",
        "})\n"
      ],
      "metadata": {
        "colab": {
          "base_uri": "https://localhost:8080/",
          "height": 576
        },
        "id": "XgrgSMaB5MUv",
        "outputId": "49c4c297-fdda-4e00-9752-9feeb2db3f07"
      },
      "execution_count": 11,
      "outputs": [
        {
          "output_type": "stream",
          "name": "stdout",
          "text": [
            "Using device: cuda\n"
          ]
        },
        {
          "output_type": "stream",
          "name": "stderr",
          "text": [
            "\u001b[34m\u001b[1mwandb\u001b[0m: Using wandb-core as the SDK backend.  Please refer to https://wandb.me/wandb-core for more information.\n",
            "\u001b[34m\u001b[1mwandb\u001b[0m: Currently logged in as: \u001b[33msaadsohail\u001b[0m (\u001b[33msaadsohail-fast-nuces\u001b[0m). Use \u001b[1m`wandb login --relogin`\u001b[0m to force relogin\n"
          ]
        },
        {
          "output_type": "display_data",
          "data": {
            "text/plain": [
              "<IPython.core.display.HTML object>"
            ],
            "text/html": [
              "Tracking run with wandb version 0.18.6"
            ]
          },
          "metadata": {}
        },
        {
          "output_type": "display_data",
          "data": {
            "text/plain": [
              "<IPython.core.display.HTML object>"
            ],
            "text/html": [
              "Run data is saved locally in <code>/content/wandb/run-20241115_134335-ulylrzfz</code>"
            ]
          },
          "metadata": {}
        },
        {
          "output_type": "display_data",
          "data": {
            "text/plain": [
              "<IPython.core.display.HTML object>"
            ],
            "text/html": [
              "Syncing run <strong><a href='https://wandb.ai/saadsohail-fast-nuces/vision-transformer/runs/ulylrzfz' target=\"_blank\">smooth-leaf-29</a></strong> to <a href='https://wandb.ai/saadsohail-fast-nuces/vision-transformer' target=\"_blank\">Weights & Biases</a> (<a href='https://wandb.me/developer-guide' target=\"_blank\">docs</a>)<br/>"
            ]
          },
          "metadata": {}
        },
        {
          "output_type": "display_data",
          "data": {
            "text/plain": [
              "<IPython.core.display.HTML object>"
            ],
            "text/html": [
              " View project at <a href='https://wandb.ai/saadsohail-fast-nuces/vision-transformer' target=\"_blank\">https://wandb.ai/saadsohail-fast-nuces/vision-transformer</a>"
            ]
          },
          "metadata": {}
        },
        {
          "output_type": "display_data",
          "data": {
            "text/plain": [
              "<IPython.core.display.HTML object>"
            ],
            "text/html": [
              " View run at <a href='https://wandb.ai/saadsohail-fast-nuces/vision-transformer/runs/ulylrzfz' target=\"_blank\">https://wandb.ai/saadsohail-fast-nuces/vision-transformer/runs/ulylrzfz</a>"
            ]
          },
          "metadata": {}
        },
        {
          "output_type": "execute_result",
          "data": {
            "text/html": [
              "<button onClick=\"this.nextSibling.style.display='block';this.style.display='none';\">Display W&B run</button><iframe src='https://wandb.ai/saadsohail-fast-nuces/vision-transformer/runs/ulylrzfz?jupyter=true' style='border:none;width:100%;height:420px;display:none;'></iframe>"
            ],
            "text/plain": [
              "<wandb.sdk.wandb_run.Run at 0x7dbeacfd7e50>"
            ]
          },
          "metadata": {},
          "execution_count": 11
        }
      ]
    },
    {
      "cell_type": "code",
      "source": [
        "# Define transformations\n",
        "transform = transforms.Compose([\n",
        "    Resize((224, 224)),  # Resize images to 224x224\n",
        "    transforms.ToTensor(),\n",
        "    transforms.Normalize((0.5, 0.5, 0.5), (0.5, 0.5, 0.5))\n",
        "])\n",
        "\n",
        "\n",
        "# Load CIFAR-10 dataset\n",
        "train_dataset = CIFAR10(root='./data', train=True, transform=transform, download=True)\n",
        "test_dataset = CIFAR10(root='./data', train=False, transform=transform, download=True)\n",
        "\n",
        "# Create data loaders\n",
        "train_loader = DataLoader(train_dataset, batch_size=32, shuffle=True)\n",
        "test_loader = DataLoader(test_dataset, batch_size=32, shuffle=False)"
      ],
      "metadata": {
        "colab": {
          "base_uri": "https://localhost:8080/"
        },
        "id": "5zQBbtnZ-vp2",
        "outputId": "3ac3ccba-f1d5-40b8-a329-d970711a8fb8"
      },
      "execution_count": 12,
      "outputs": [
        {
          "output_type": "stream",
          "name": "stdout",
          "text": [
            "Files already downloaded and verified\n",
            "Files already downloaded and verified\n"
          ]
        }
      ]
    },
    {
      "cell_type": "code",
      "source": [
        "# Calculate the total number of trainable parameters\n",
        "total_params = sum(p.numel() for p in model.parameters() if p.requires_grad)\n",
        "print(f\"Total trainable parameters: {total_params:,}\")\n"
      ],
      "metadata": {
        "colab": {
          "base_uri": "https://localhost:8080/"
        },
        "id": "N17MwC9J_IJA",
        "outputId": "fb39d977-53e5-4517-eefa-f1326adf1a15"
      },
      "execution_count": 13,
      "outputs": [
        {
          "output_type": "stream",
          "name": "stdout",
          "text": [
            "Total trainable parameters: 88,152,586\n"
          ]
        }
      ]
    },
    {
      "cell_type": "code",
      "source": [
        "def accuracy(output, target, topk=(1,)):\n",
        "    \"\"\"Computes the accuracy over the k top predictions for the specified values of k\"\"\"\n",
        "    with torch.no_grad():\n",
        "        maxk = max(topk)\n",
        "        batch_size = target.size(0)\n",
        "\n",
        "        _, pred = output.topk(maxk, 1, True, True)\n",
        "        pred = pred.t()\n",
        "        correct = pred.eq(target.view(1, -1).expand_as(pred))\n",
        "\n",
        "        res = []\n",
        "        for k in topk:\n",
        "            correct_k = correct[:k].reshape(-1).float().sum(0, keepdim=True)\n",
        "            res.append(correct_k.mul_(100.0 / batch_size))\n",
        "        return res"
      ],
      "metadata": {
        "id": "HC-PSjWq-x6q"
      },
      "execution_count": 14,
      "outputs": []
    },
    {
      "cell_type": "code",
      "source": [
        "from tqdm import tqdm\n",
        "device = torch.device(\"cuda\" if torch.cuda.is_available() else \"cpu\")\n",
        "model.to(device)\n",
        "\n",
        "# Training loop\n",
        "for epoch in range(epochs):\n",
        "    model.train()\n",
        "    running_loss = 0.0\n",
        "    correct = 0\n",
        "    total = 0\n",
        "\n",
        "    # Initialize tqdm progress bar for the entire epoch\n",
        "    epoch_pbar = tqdm(total=len(train_loader), desc=f\"Epoch {epoch}/{epochs}\", unit=\"batch\", leave=True)\n",
        "\n",
        "    for batch_idx, (data, target) in enumerate(train_loader):\n",
        "        data, target = data.to(device), target.to(device)\n",
        "        optimizer.zero_grad()\n",
        "\n",
        "        output = model(data)\n",
        "        loss = criterion(output, target)\n",
        "        loss.backward()\n",
        "        optimizer.step()\n",
        "\n",
        "        # Calculate accuracy using the provided function\n",
        "        top1_acc, = accuracy(output, target, topk=(1,))\n",
        "        running_loss += loss.item()\n",
        "\n",
        "        # Update tqdm progress bar\n",
        "        epoch_pbar.set_postfix(loss=loss.item(), top1_acc=top1_acc.item())\n",
        "        epoch_pbar.update(1)  # Increment the progress bar by 1\n",
        "\n",
        "    epoch_pbar.close()  # Close the progress bar when the epoch ends\n",
        "\n",
        "    # Log training metrics to WandB\n",
        "    wandb.log({'train_loss': running_loss / len(train_loader), 'train_accuracy': top1_acc.item()})\n",
        "    scheduler.step()\n",
        "\n",
        "    print(f\"Epoch {epoch}, Top-1 Accuracy: {top1_acc.item()}%\")\n"
      ],
      "metadata": {
        "colab": {
          "base_uri": "https://localhost:8080/"
        },
        "id": "Tb5mXnBW_MIf",
        "outputId": "7a853473-26d9-4a58-9a2b-b0836803b941"
      },
      "execution_count": 15,
      "outputs": [
        {
          "output_type": "stream",
          "name": "stderr",
          "text": [
            "Epoch 0/4: 100%|██████████| 1563/1563 [30:28<00:00,  1.17s/batch, loss=2.68, top1_acc=12.5]\n"
          ]
        },
        {
          "output_type": "stream",
          "name": "stdout",
          "text": [
            "Epoch 0, Top-1 Accuracy: 12.5%\n"
          ]
        },
        {
          "output_type": "stream",
          "name": "stderr",
          "text": [
            "Epoch 1/4: 100%|██████████| 1563/1563 [30:43<00:00,  1.18s/batch, loss=2.48, top1_acc=18.8]\n"
          ]
        },
        {
          "output_type": "stream",
          "name": "stdout",
          "text": [
            "Epoch 1, Top-1 Accuracy: 18.75%\n"
          ]
        },
        {
          "output_type": "stream",
          "name": "stderr",
          "text": [
            "Epoch 2/4: 100%|██████████| 1563/1563 [30:56<00:00,  1.19s/batch, loss=2.63, top1_acc=18.8]\n"
          ]
        },
        {
          "output_type": "stream",
          "name": "stdout",
          "text": [
            "Epoch 2, Top-1 Accuracy: 18.75%\n"
          ]
        },
        {
          "output_type": "stream",
          "name": "stderr",
          "text": [
            "Epoch 3/4: 100%|██████████| 1563/1563 [30:54<00:00,  1.19s/batch, loss=2.41, top1_acc=18.8]"
          ]
        },
        {
          "output_type": "stream",
          "name": "stdout",
          "text": [
            "Epoch 3, Top-1 Accuracy: 18.75%\n"
          ]
        },
        {
          "output_type": "stream",
          "name": "stderr",
          "text": [
            "\n"
          ]
        }
      ]
    },
    {
      "cell_type": "code",
      "source": [
        "# Optional: Save the model at each epoch\n",
        "torch.save(model.state_dict(), f\"ViT_epoch_{epoch}.pt\")\n",
        "model=torch.load('ViT_epoch_3.pt')\n"
      ],
      "metadata": {
        "id": "d2ZWUnXN_Vem",
        "colab": {
          "base_uri": "https://localhost:8080/"
        },
        "outputId": "8310ee22-2f0c-4341-f5f9-9cccf1f45bfb"
      },
      "execution_count": 39,
      "outputs": [
        {
          "output_type": "stream",
          "name": "stderr",
          "text": [
            "<ipython-input-39-b76cc4f2897d>:3: FutureWarning: You are using `torch.load` with `weights_only=False` (the current default value), which uses the default pickle module implicitly. It is possible to construct malicious pickle data which will execute arbitrary code during unpickling (See https://github.com/pytorch/pytorch/blob/main/SECURITY.md#untrusted-models for more details). In a future release, the default value for `weights_only` will be flipped to `True`. This limits the functions that could be executed during unpickling. Arbitrary objects will no longer be allowed to be loaded via this mode unless they are explicitly allowlisted by the user via `torch.serialization.add_safe_globals`. We recommend you start setting `weights_only=True` for any use case where you don't have full control of the loaded file. Please open an issue on GitHub for any issues related to this experimental feature.\n",
            "  model=torch.load('ViT_epoch_3.pt')\n"
          ]
        }
      ]
    },
    {
      "cell_type": "code",
      "source": [
        "# Validation loop\n",
        "model.eval()\n",
        "correct = 0\n",
        "total = 0\n",
        "with torch.no_grad():\n",
        "    # Use tqdm for validation as well\n",
        "    val_pbar = tqdm(test_loader, desc=f\"Validation after Epoch {epoch}\", unit=\"batch\", leave=True)\n",
        "    for data, target in val_pbar:\n",
        "        data, target = data.to(device), target.to(device)\n",
        "        output = model(data)\n",
        "\n",
        "        # Calculate top-1 accuracy for the validation set\n",
        "        top1_acc, = accuracy(output, target, topk=(1,))\n",
        "        correct += (top1_acc > 0)\n",
        "        total += target.size(0)\n",
        "\n",
        "        # Update tqdm description with current validation accuracy\n",
        "        val_pbar.set_postfix(test_top1_acc=top1_acc.item())\n",
        "\n",
        "    test_accuracy = 100. * correct / total\n",
        "    print(f\"Test Top-1 Accuracy after Epoch {epoch}: {test_accuracy}%\")\n",
        "    wandb.log({'test_accuracy': test_accuracy})"
      ],
      "metadata": {
        "id": "2ufrLiox_YD3",
        "colab": {
          "base_uri": "https://localhost:8080/"
        },
        "outputId": "6048851c-c4d3-4e7a-d2a9-353b479c8dd1"
      },
      "execution_count": 18,
      "outputs": [
        {
          "output_type": "stream",
          "name": "stderr",
          "text": [
            "Validation after Epoch 3: 100%|██████████| 313/313 [02:07<00:00,  2.45batch/s, test_top1_acc=6.25]"
          ]
        },
        {
          "output_type": "stream",
          "name": "stdout",
          "text": [
            "Test Top-1 Accuracy after Epoch 3: tensor([3.1300], device='cuda:0')%\n"
          ]
        },
        {
          "output_type": "stream",
          "name": "stderr",
          "text": [
            "\n"
          ]
        }
      ]
    },
    {
      "cell_type": "code",
      "source": [
        "# Switch the model to evaluation mode\n",
        "model.eval()\n",
        "\n",
        "# Load a single sample from the CIFAR-10 test dataset\n",
        "sample_loader = DataLoader(test_dataset, batch_size=1, shuffle=True)\n",
        "data_iter = iter(sample_loader)\n",
        "sample_image, sample_label = next(data_iter)\n",
        "\n",
        "# Move the sample to the appropriate device\n",
        "sample_image = sample_image.to(device)\n",
        "sample_label = sample_label.to(device)\n",
        "\n",
        "# Perform inference\n",
        "with torch.no_grad():\n",
        "    output = model(sample_image)  # Model output (logits)\n",
        "    probabilities = F.softmax(output, dim=1)  # Convert logits to probabilities\n",
        "    predicted_class = probabilities.argmax(dim=1)  # Get predicted class index\n",
        "\n",
        "# Print results\n",
        "print(f\"Predicted class: {predicted_class.item()}, Actual class: {sample_label.item()}\")\n",
        "print(f\"Class probabilities: {probabilities.cpu().numpy()}\")\n",
        "\n",
        "# Visualize the sample image (Optional)\n",
        "import matplotlib.pyplot as plt\n",
        "\n",
        "# Denormalize the image for visualization\n",
        "mean = np.array([0.5, 0.5, 0.5])\n",
        "std = np.array([0.5, 0.5, 0.5])\n",
        "sample_image_np = sample_image.cpu().numpy().squeeze().transpose((1, 2, 0))\n",
        "sample_image_np = sample_image_np * std + mean  # Denormalize\n",
        "sample_image_np = np.clip(sample_image_np, 0, 1)\n",
        "plt.imshow(sample_image_np)\n",
        "plt.title(f\"Predicted: {predicted_class.item()}, Actual: {sample_label.item()}\")\n",
        "plt.show()\n"
      ],
      "metadata": {
        "colab": {
          "base_uri": "https://localhost:8080/",
          "height": 504
        },
        "id": "XVX_VCgRhRBI",
        "outputId": "68a6c1d0-f89c-4ee7-a72c-d54cab994104"
      },
      "execution_count": 38,
      "outputs": [
        {
          "output_type": "stream",
          "name": "stdout",
          "text": [
            "Predicted class: 4, Actual class: 3\n",
            "Class probabilities: [[0.00714832 0.02824773 0.14058995 0.02055086 0.52897453 0.0145304\n",
            "  0.13717222 0.0758087  0.01677315 0.03020407]]\n"
          ]
        },
        {
          "output_type": "display_data",
          "data": {
            "text/plain": [
              "<Figure size 640x480 with 1 Axes>"
            ],
            "image/png": "[encoded data removed]"
          },
          "metadata": {}
        }
      ]
    }
  ]
}